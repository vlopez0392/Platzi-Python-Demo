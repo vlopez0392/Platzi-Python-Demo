{
 "cells": [
  {
   "cell_type": "markdown",
   "metadata": {},
   "source": [
    "# Prueba Pedagogica: Curso de Python en Platzi \n",
    "\n",
    "## Introduccion a la Programacion Orientada a Objetos en Python \n",
    "\n",
    "\n",
    "__Ejercicio:__ Crear una una clase llamada Cuenta que representarà una simple cuenta de banco. \n",
    "\n",
    "La clase deberà tener los siguientes atributos: \n",
    "\n",
    " - Nombre (O titular de la cuenta)\n",
    " - Balance actual de la cuenta \n",
    " \n",
    "La clase deberà poseer los siguientes metodos:\n",
    "\n",
    " - Depositar (Nota: No se podrà introducir un monto 0 o un monto negativo)\n",
    " - Retirar   (Nota: No se podrà retirar si este valor excede el balance actual de la cuenta)\n",
    " \n",
    "#### Introduccion:\n",
    "\n",
    "En primer lugar definamos una __clase__ como un tipo de data cuyo uso es similar a los tipos de datos \"built-in\" o ya incluidos en Python tales como __dict__, __int__, o  __str__. \n",
    "\n",
    "La diferencia con los anteriores sera entonces que nosotros como programadores tendremos el poder de defiir las caracteristicas de nuestra clase (sus atributos) y el comportamiento o acciones que la clase ejecutara (sus metodos)\n",
    "\n",
    "Utilicemos la clase complex como ejemplo preliminar para ilustrar a que nos referimos con atributos y metodos: "
   ]
  },
  {
   "cell_type": "code",
   "execution_count": 28,
   "metadata": {},
   "outputs": [
    {
     "data": {
      "text/plain": [
       "int"
      ]
     },
     "execution_count": 28,
     "metadata": {},
     "output_type": "execute_result"
    }
   ],
   "source": [
    "a,b =\n",
    "c = 0\n",
    "\n",
    "type(c)"
   ]
  },
  {
   "cell_type": "markdown",
   "metadata": {},
   "source": [
    "Hemos definido un numero complejo $c = a +bj$ con parte real $a = 1$ y parte imaginaria $b = 2$, por lo que $c = 1 +2j$\n",
    "\n",
    "Ahora, obtengamos algunos atributos de este objeto tipo complex utilizando la siguiente sintaxis: \n",
    "\n",
    "$c.atributo1, c.atributo2, ..... , c.atributoN$"
   ]
  },
  {
   "cell_type": "code",
   "execution_count": 30,
   "metadata": {},
   "outputs": [
    {
     "name": "stdout",
     "output_type": "stream",
     "text": [
      "La parte real de c es 0\n",
      "La parte imaginaria de c es 0\n"
     ]
    }
   ],
   "source": [
    "r = 0\n",
    "print(\"La parte real de c es {}\".format(r))\n",
    "\n",
    "i = 0\n",
    "print(\"La parte imaginaria de c es {}\".format(i))"
   ]
  },
  {
   "cell_type": "markdown",
   "metadata": {},
   "source": [
    "Como podemos observar, hemos obtenido los atributos __c.real__ y __c.imag__ para obtener las partes real e imaginarias de $c$ respectivamente. A nuestros atributos tambien les conoceremos como variables de instancia ya que son propias de las instancias de las clases (objetos) que creemos. \n",
    "\n",
    "Finalmente, ejecutemos la llamada de un metodo en nuesto numero $c$ con la siguiente sintaxis: \n",
    "\n",
    "$c.metodo1(), c.metodo2(), ..... , c.metodoN()$"
   ]
  },
  {
   "cell_type": "code",
   "execution_count": 31,
   "metadata": {},
   "outputs": [
    {
     "name": "stdout",
     "output_type": "stream",
     "text": [
      "El conjugado de 0 es 0\n"
     ]
    }
   ],
   "source": [
    "conj = c.conjugate()\n",
    "print(\"El conjugado de {} es {}\".format(c,conj))"
   ]
  },
  {
   "cell_type": "markdown",
   "metadata": {},
   "source": [
    "**********************"
   ]
  },
  {
   "cell_type": "markdown",
   "metadata": {},
   "source": [
    "Armados con estas definiciones, tratemos de crear de nuestra clase Cuenta: "
   ]
  },
  {
   "cell_type": "code",
   "execution_count": null,
   "metadata": {},
   "outputs": [],
   "source": [
    "class Cuenta: ##La clase mas simple que es posible\n",
    "    pass"
   ]
  },
  {
   "cell_type": "code",
   "execution_count": 3,
   "metadata": {},
   "outputs": [],
   "source": [
    "cuenta1=Cuenta"
   ]
  },
  {
   "cell_type": "code",
   "execution_count": 5,
   "metadata": {},
   "outputs": [
    {
     "data": {
      "text/plain": [
       "<__main__.Cuenta at 0x17f75d9a828>"
      ]
     },
     "execution_count": 5,
     "metadata": {},
     "output_type": "execute_result"
    }
   ],
   "source": [
    "cuenta1"
   ]
  },
  {
   "cell_type": "markdown",
   "metadata": {},
   "source": [
    "Ehhh.. ¿Esto no nos es muy util verdad?\n",
    "\n",
    "Lo que estamos viendo es la direccion en la memoria donde nuestra clase ha sido instanciada.\n",
    "\n",
    "Tratemos de agregar un poco mas de utilidad:"
   ]
  },
  {
   "cell_type": "code",
   "execution_count": null,
   "metadata": {},
   "outputs": [],
   "source": [
    "class Cuenta:\n",
    "    \n",
    "    def __init__(self, balance, nombre): ##Constructor\n",
    "        \n",
    "        \n",
    "    def depositar(self, monto):  ## Metodo retirar\n",
    "\n",
    "    \n",
    "    def retirar(self, monto):   ##Metodo depositar   \n",
    "        \n",
    "    \n",
    "    def "
   ]
  },
  {
   "cell_type": "code",
   "execution_count": 33,
   "metadata": {},
   "outputs": [],
   "source": [
    "cuenta2 = Cuenta(100, \"Victor\")"
   ]
  },
  {
   "cell_type": "code",
   "execution_count": 34,
   "metadata": {},
   "outputs": [
    {
     "data": {
      "text/plain": [
       "'Victor'"
      ]
     },
     "execution_count": 34,
     "metadata": {},
     "output_type": "execute_result"
    }
   ],
   "source": [
    "cuenta2.nombre"
   ]
  },
  {
   "cell_type": "code",
   "execution_count": 35,
   "metadata": {},
   "outputs": [
    {
     "data": {
      "text/plain": [
       "100"
      ]
     },
     "execution_count": 35,
     "metadata": {},
     "output_type": "execute_result"
    }
   ],
   "source": [
    "cuenta2.balance"
   ]
  },
  {
   "cell_type": "code",
   "execution_count": 36,
   "metadata": {},
   "outputs": [
    {
     "name": "stdout",
     "output_type": "stream",
     "text": [
      "Se ha retirado un monto total de 50\n"
     ]
    }
   ],
   "source": [
    "cuenta2.retirar(50)"
   ]
  },
  {
   "cell_type": "code",
   "execution_count": 37,
   "metadata": {},
   "outputs": [
    {
     "data": {
      "text/plain": [
       "50"
      ]
     },
     "execution_count": 37,
     "metadata": {},
     "output_type": "execute_result"
    }
   ],
   "source": [
    "cuenta2.balance"
   ]
  },
  {
   "cell_type": "code",
   "execution_count": 38,
   "metadata": {},
   "outputs": [
    {
     "name": "stdout",
     "output_type": "stream",
     "text": [
      "Monto invalido, tratar de nuevo\n"
     ]
    }
   ],
   "source": [
    "cuenta2.depositar(0)"
   ]
  },
  {
   "cell_type": "markdown",
   "metadata": {},
   "source": [
    "## Muy buen trabajo!"
   ]
  }
 ],
 "metadata": {
  "kernelspec": {
   "display_name": "Python 3",
   "language": "python",
   "name": "python3"
  },
  "language_info": {
   "codemirror_mode": {
    "name": "ipython",
    "version": 3
   },
   "file_extension": ".py",
   "mimetype": "text/x-python",
   "name": "python",
   "nbconvert_exporter": "python",
   "pygments_lexer": "ipython3",
   "version": "3.7.3"
  }
 },
 "nbformat": 4,
 "nbformat_minor": 2
}
